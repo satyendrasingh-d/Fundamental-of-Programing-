{
 "cells": [
  {
   "cell_type": "code",
   "execution_count": 1,
   "id": "48d07509-03cd-4e1c-9112-f973617d38e9",
   "metadata": {},
   "outputs": [
    {
     "name": "stdout",
     "output_type": "stream",
     "text": [
      "1\n",
      "2\n",
      "3\n",
      "4\n",
      "5\n",
      "6\n",
      "7\n",
      "8\n",
      "9\n",
      "10\n"
     ]
    }
   ],
   "source": [
    "# Write the Python Program that uses a for loop to print the numbers from 1 to 10. \n",
    "for i in range (1,11):\n",
    "    print(i)"
   ]
  },
  {
   "cell_type": "code",
   "execution_count": 10,
   "id": "3a59e068-70f1-4ae2-9b31-2ac562816caf",
   "metadata": {},
   "outputs": [
    {
     "name": "stdout",
     "output_type": "stream",
     "text": [
      "The maximum number in the list is: 8\n"
     ]
    }
   ],
   "source": [
    "# Function to find the maximum number in a list\n",
    "def find_maximum(numbers):\n",
    "    max_number = numbers[0]\n",
    "    for num in numbers:\n",
    "        if num > max_number:\n",
    "            max_number = num\n",
    "    return max_number\n",
    "numbers_list = [3, 5, 7, 2, 8, 1]\n",
    "max_value = find_maximum(numbers_list)\n",
    "print(\"The maximum number in the list is:\", max_value)\n"
   ]
  },
  {
   "cell_type": "code",
   "execution_count": 3,
   "id": "9689050a-4e32-46cf-bc42-1d0daeee58e9",
   "metadata": {},
   "outputs": [
    {
     "name": "stdout",
     "output_type": "stream",
     "text": [
      "Even Number 2\n",
      "Even Number 4\n",
      "Even Number 6\n",
      "Even Number 8\n",
      "Even Number 10\n",
      "Even Number 12\n",
      "Even Number 14\n",
      "Even Number 16\n",
      "Even Number 18\n",
      "Even Number 20\n"
     ]
    }
   ],
   "source": [
    "# Write a Python Program that print all even number from 1 to 20 using a for loop. \n",
    "for i in range (1,21):\n",
    "    if i%2==0:\n",
    "       print(\"Even Number\", i)"
   ]
  },
  {
   "cell_type": "code",
   "execution_count": 4,
   "id": "898e29a5-6921-4c21-ae95-56984f5cdb57",
   "metadata": {},
   "outputs": [
    {
     "name": "stdout",
     "output_type": "stream",
     "text": [
      "2\n",
      "4\n",
      "6\n",
      "8\n",
      "10\n",
      "12\n",
      "14\n",
      "16\n",
      "18\n",
      "20\n",
      "22\n",
      "24\n",
      "26\n",
      "28\n",
      "30\n",
      "32\n",
      "34\n",
      "36\n",
      "38\n",
      "40\n",
      "42\n",
      "44\n",
      "46\n",
      "48\n",
      "50\n",
      "52\n",
      "54\n",
      "56\n",
      "58\n",
      "60\n",
      "62\n",
      "64\n",
      "66\n",
      "68\n",
      "70\n",
      "72\n",
      "74\n",
      "76\n",
      "78\n",
      "80\n",
      "82\n",
      "84\n",
      "86\n",
      "88\n",
      "90\n",
      "92\n",
      "94\n",
      "96\n",
      "98\n",
      "100\n"
     ]
    }
   ],
   "source": [
    "# Even Number Between 1 and 100.\n",
    "for i in range (1,101):\n",
    "    if i%2==0:\n",
    "        print(i)"
   ]
  },
  {
   "cell_type": "code",
   "execution_count": 5,
   "id": "51064bb4-08d7-4612-8fbd-852a58111eb1",
   "metadata": {},
   "outputs": [
    {
     "name": "stdout",
     "output_type": "stream",
     "text": [
      "Sum of First 5 Natural Number 15\n"
     ]
    }
   ],
   "source": [
    "# Write a Python Program to find the sum of the first five natural numbers. (1,2,3,4,5)\n",
    "Numbers = [1,2,3,4,5]\n",
    "num = sum(Numbers)\n",
    "print(\"Sum of First 5 Natural Number\", num)"
   ]
  },
  {
   "cell_type": "code",
   "execution_count": 6,
   "id": "f9bac74a-6b24-44ab-b3d5-501007b7806f",
   "metadata": {},
   "outputs": [
    {
     "name": "stdout",
     "output_type": "stream",
     "text": [
      "Odd Number 1\n",
      "Even Number 2\n",
      "Odd Number 3\n",
      "Even Number 4\n",
      "Odd Number 5\n",
      "Even Number 6\n",
      "Odd Number 7\n",
      "Even Number 8\n",
      "Odd Number 9\n",
      "Even Number 10\n",
      "Odd Number 11\n",
      "Even Number 12\n",
      "Odd Number 13\n",
      "Even Number 14\n",
      "Odd Number 15\n",
      "Even Number 16\n",
      "Odd Number 17\n",
      "Even Number 18\n",
      "Odd Number 19\n",
      "Even Number 20\n",
      "Odd Number 21\n",
      "Even Number 22\n",
      "Odd Number 23\n",
      "Even Number 24\n",
      "Odd Number 25\n",
      "Even Number 26\n",
      "Odd Number 27\n",
      "Even Number 28\n",
      "Odd Number 29\n",
      "Even Number 30\n"
     ]
    }
   ],
   "source": [
    "# Count Even and Odd Numbers in a list\n",
    "for i in range (1,31):\n",
    "    if i%2==0:\n",
    "        print(\"Even Number\", i)\n",
    "    else:\n",
    "        print(\"Odd Number\", i)"
   ]
  },
  {
   "cell_type": "code",
   "execution_count": 16,
   "id": "aad095bf-a737-4409-8c3e-ef7ab7b6895b",
   "metadata": {},
   "outputs": [
    {
     "name": "stdout",
     "output_type": "stream",
     "text": [
      "10\n",
      "9\n",
      "8\n",
      "7\n",
      "6\n",
      "5\n",
      "4\n",
      "3\n",
      "2\n",
      "1\n"
     ]
    }
   ],
   "source": [
    "# Write a Python Program to print numbers from 10to 1 using a for loop. \n",
    "for i in range (10,0,-1):\n",
    "    print(i)"
   ]
  },
  {
   "cell_type": "code",
   "execution_count": 18,
   "id": "eb4a1bd5-d043-485e-9843-910b04ea0963",
   "metadata": {},
   "outputs": [
    {
     "name": "stdout",
     "output_type": "stream",
     "text": [
      "4\n"
     ]
    }
   ],
   "source": [
    "# Write a Python Program to count the numbers of Vowels in a string using a for loop .\n",
    "x = \"Satyendra Singh\"\n",
    "y = \"aeoiu\"\n",
    "z = 0\n",
    "for i in x:\n",
    "    if i in y:\n",
    "        z=z+1\n",
    "print(z)"
   ]
  },
  {
   "cell_type": "code",
   "execution_count": 15,
   "id": "2c869de3-e919-40b5-90a1-f045eadad9f1",
   "metadata": {},
   "outputs": [
    {
     "name": "stdout",
     "output_type": "stream",
     "text": [
      "The smallest number in the list is: 3\n"
     ]
    }
   ],
   "source": [
    "# Write a Python Program to find the smallest number in a list using a for loop.# Function to find the maximum number in a list\n",
    "def find_smallest_number(numbers):\n",
    "    smallest = numbers[0]\n",
    "    for num in numbers:\n",
    "        if num < smallest:\n",
    "            smallest = num\n",
    "    return smallest\n",
    "numbers = [12, 3, 45, 7, 19, 4]\n",
    "smallest_number = find_smallest_number(numbers)\n",
    "print(\"The smallest number in the list is:\", smallest_number)\n"
   ]
  },
  {
   "cell_type": "code",
   "execution_count": 18,
   "id": "9cd87d5d-47d0-4af5-b3ea-f78cb70a0527",
   "metadata": {},
   "outputs": [
    {
     "name": "stdout",
     "output_type": "stream",
     "text": [
      "*\n",
      "**\n",
      "***\n",
      "****\n",
      "*****\n",
      "******\n",
      "*******\n",
      "********\n"
     ]
    }
   ],
   "source": [
    "r = 8\n",
    "for i in range (1,r+1):\n",
    "    print(\"*\"*i)"
   ]
  },
  {
   "cell_type": "code",
   "execution_count": null,
   "id": "a871671b-4347-452f-b4b6-6cd686ea09fe",
   "metadata": {},
   "outputs": [],
   "source": []
  }
 ],
 "metadata": {
  "kernelspec": {
   "display_name": "Python 3 (ipykernel)",
   "language": "python",
   "name": "python3"
  },
  "language_info": {
   "codemirror_mode": {
    "name": "ipython",
    "version": 3
   },
   "file_extension": ".py",
   "mimetype": "text/x-python",
   "name": "python",
   "nbconvert_exporter": "python",
   "pygments_lexer": "ipython3",
   "version": "3.12.4"
  }
 },
 "nbformat": 4,
 "nbformat_minor": 5
}
