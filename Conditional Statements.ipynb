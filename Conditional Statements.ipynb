{
 "cells": [
  {
   "cell_type": "code",
   "execution_count": 1,
   "id": "8721ed0a-7193-4cfb-ac2d-9fe53341838e",
   "metadata": {},
   "outputs": [
    {
     "name": "stdin",
     "output_type": "stream",
     "text": [
      "Enter a Number 800\n"
     ]
    },
    {
     "name": "stdout",
     "output_type": "stream",
     "text": [
      "This number is Even\n"
     ]
    }
   ],
   "source": [
    "# Check if Number is greater then 0\n",
    "n= int(input('Enter a Number',))\n",
    "if n%2==0:\n",
    "    print('This number is Even')\n",
    "else:\n",
    "    print('This number is Odd')"
   ]
  },
  {
   "cell_type": "code",
   "execution_count": 7,
   "id": "0874535c-f406-4222-8910-ddd1f17ed744",
   "metadata": {},
   "outputs": [
    {
     "name": "stdout",
     "output_type": "stream",
     "text": [
      "This Number is Negative\n"
     ]
    }
   ],
   "source": [
    "# Nested if statement\n",
    "n= -1\n",
    "if n >=0:  # Outer if statement\n",
    "    if n==0:  # Inner statemen\n",
    "        print('Number is 0')\n",
    "    else:\n",
    "       print('This Number is Positive')\n",
    "else:\n",
    "  print('This Number is Negative')"
   ]
  },
  {
   "cell_type": "code",
   "execution_count": 9,
   "id": "f54cce37-0056-4c67-a66c-5ebe20c8c632",
   "metadata": {},
   "outputs": [
    {
     "name": "stdin",
     "output_type": "stream",
     "text": [
      "Enter a Year 1806\n"
     ]
    },
    {
     "name": "stdout",
     "output_type": "stream",
     "text": [
      "This year is Not a Leap Year\n"
     ]
    }
   ],
   "source": [
    "# Que. write a program to check weather the given year is leap year or not?\n",
    "n= int(input('Enter a Year',))\n",
    "if n%4==0 and n%100!=0 or n%400==0:\n",
    "    print('This year is a Leap Year')\n",
    "else:\n",
    "    print('This year is Not a Leap Year')\n",
    "    "
   ]
  },
  {
   "cell_type": "code",
   "execution_count": 10,
   "id": "282a2b5a-55a1-49b1-bb2d-ca55d6ca2d41",
   "metadata": {},
   "outputs": [
    {
     "name": "stdin",
     "output_type": "stream",
     "text": [
      "Enter a Year 2012\n"
     ]
    },
    {
     "name": "stdout",
     "output_type": "stream",
     "text": [
      "This year is a Leap Year\n"
     ]
    }
   ],
   "source": [
    "n= int(input('Enter a Year',))\n",
    "if n%4==0 and n%100!=0 or n%400==0:\n",
    "    print('This year is a Leap Year')\n",
    "else:\n",
    "    print('This year is Not a Leap Year')\n",
    "    "
   ]
  },
  {
   "cell_type": "code",
   "execution_count": 1,
   "id": "5cf8cde8-5f55-4235-9669-3f786b2b853e",
   "metadata": {},
   "outputs": [
    {
     "name": "stdin",
     "output_type": "stream",
     "text": [
      "Enter a Year 1900\n"
     ]
    },
    {
     "name": "stdout",
     "output_type": "stream",
     "text": [
      "This is Not a Leap Year\n"
     ]
    }
   ],
   "source": [
    "n= int(input('Enter a Year',))\n",
    "if n%4==0 and n%100!=0 or n%400==0:\n",
    "    print('This Year is a Leap Year')\n",
    "else:\n",
    "    print('This is Not a Leap Year')"
   ]
  },
  {
   "cell_type": "code",
   "execution_count": null,
   "id": "383a3967-b617-4087-8807-d8ee90e1ba37",
   "metadata": {},
   "outputs": [],
   "source": []
  }
 ],
 "metadata": {
  "kernelspec": {
   "display_name": "Python 3 (ipykernel)",
   "language": "python",
   "name": "python3"
  },
  "language_info": {
   "codemirror_mode": {
    "name": "ipython",
    "version": 3
   },
   "file_extension": ".py",
   "mimetype": "text/x-python",
   "name": "python",
   "nbconvert_exporter": "python",
   "pygments_lexer": "ipython3",
   "version": "3.12.4"
  }
 },
 "nbformat": 4,
 "nbformat_minor": 5
}
