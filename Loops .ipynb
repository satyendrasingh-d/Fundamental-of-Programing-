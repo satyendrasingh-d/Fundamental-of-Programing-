{
 "cells": [
  {
   "cell_type": "code",
   "execution_count": 1,
   "id": "45c2c809-9c11-4312-a0a5-18f49920d194",
   "metadata": {},
   "outputs": [],
   "source": [
    "#     LOOPS"
   ]
  },
  {
   "cell_type": "code",
   "execution_count": 2,
   "id": "7d1d8b52-5e50-496a-a422-477a596d248c",
   "metadata": {},
   "outputs": [
    {
     "name": "stdout",
     "output_type": "stream",
     "text": [
      " The sum of the first 5 natural number is15\n"
     ]
    }
   ],
   "source": [
    "# Que 1. Write a Python Program t find the sum of the first 5 natural number (1,2,3,4,5). \n",
    "n = [1,2,3,4,5]\n",
    "sum_of_n = sum(n)\n",
    "print(f\" The sum of the first 5 natural number is{sum_of_n}\")"
   ]
  },
  {
   "cell_type": "code",
   "execution_count": 4,
   "id": "7efaa822-67e7-4908-b203-bf99febead0d",
   "metadata": {},
   "outputs": [
    {
     "name": "stdout",
     "output_type": "stream",
     "text": [
      "Even number count: 0\n",
      "Odd number count: 1\n",
      "Even number count: 1\n",
      "Odd number count: 1\n",
      "Even number count: 1\n",
      "Odd number count: 1\n",
      "Even number count: 1\n",
      "Odd number count: 1\n",
      "Even number count: 1\n",
      "Odd number count: 1\n"
     ]
    }
   ],
   "source": [
    "# Que 2.Count Even and odd number in a List. \n",
    "n = [1,2,3,4,5,6,7,8,9,10]\n",
    "even_count=0\n",
    "odd_count=0\n",
    "for i in n:\n",
    "    if i%2 == 0:\n",
    "        even_count=even_count =+ 1\n",
    "    else:\n",
    "        odd_count=odd_count =+ 1\n",
    "        print(\"Even number count:\", even_count)\n",
    "        print(\"Odd number count:\", odd_count)"
   ]
  },
  {
   "cell_type": "code",
   "execution_count": 6,
   "id": "d8e8f413-54cc-4897-9ebb-6c85d2814328",
   "metadata": {},
   "outputs": [
    {
     "name": "stdout",
     "output_type": "stream",
     "text": [
      "10\n",
      "9\n",
      "8\n",
      "7\n",
      "6\n",
      "5\n",
      "4\n",
      "3\n",
      "2\n",
      "1\n"
     ]
    }
   ],
   "source": [
    "# Que 3. Print number in Reverse Order\n",
    "# Que Write a Python Program to print number from 10 to 1 using for a loop. \n",
    "for i in range(10,0,-1)\n",
    "    print(i)"
   ]
  },
  {
   "cell_type": "code",
   "execution_count": 5,
   "id": "e86c6964-2d2c-439c-acfa-b06b11a0e110",
   "metadata": {},
   "outputs": [
    {
     "name": "stdout",
     "output_type": "stream",
     "text": [
      "3\n"
     ]
    }
   ],
   "source": [
    "# Que 4. Count the number of Vowels in a String\n",
    "# Que Write a Python Program to count the number of vowels in a string using for a loop\n",
    "x = \"Hello World\"\n",
    "y = \"aeiou\"\n",
    "z = 0\n",
    "for i in x:\n",
    "    if i in y:\n",
    "        z = z+1\n",
    "print(z)"
   ]
  },
  {
   "cell_type": "code",
   "execution_count": 6,
   "id": "780da46c-f2f8-47c2-8ee3-65e84c11f8a9",
   "metadata": {},
   "outputs": [
    {
     "name": "stdout",
     "output_type": "stream",
     "text": [
      "3\n"
     ]
    }
   ],
   "source": [
    "# Que 5. Write a Pythod Program to find the smaller number in a list using a for loop\n",
    "x = [10,5,20,47,3]\n",
    "for num in x:\n",
    "    y = x.sort(reverse=True)\n",
    "    y = num\n",
    "    if y<num:\n",
    "        pass\n",
    "print(num)"
   ]
  },
  {
   "cell_type": "code",
   "execution_count": null,
   "id": "defbdfe3-c3fa-4611-a8bb-10f5048ab319",
   "metadata": {},
   "outputs": [],
   "source": []
  }
 ],
 "metadata": {
  "kernelspec": {
   "display_name": "Python 3 (ipykernel)",
   "language": "python",
   "name": "python3"
  },
  "language_info": {
   "codemirror_mode": {
    "name": "ipython",
    "version": 3
   },
   "file_extension": ".py",
   "mimetype": "text/x-python",
   "name": "python",
   "nbconvert_exporter": "python",
   "pygments_lexer": "ipython3",
   "version": "3.12.4"
  }
 },
 "nbformat": 4,
 "nbformat_minor": 5
}
